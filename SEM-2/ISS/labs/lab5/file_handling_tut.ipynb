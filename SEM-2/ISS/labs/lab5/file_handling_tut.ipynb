{
 "cells": [
  {
   "cell_type": "markdown",
   "metadata": {},
   "source": [
    "## Reading a File"
   ]
  },
  {
   "cell_type": "code",
   "execution_count": null,
   "metadata": {},
   "outputs": [],
   "source": [
    "\n",
    "\n",
    "# Read a file without using with\n",
    "def read_file(file_name):\n",
    "    try:\n",
    "        file = open(file_name)\n",
    "        try:\n",
    "            for line in file:\n",
    "                print(line.strip())\n",
    "        finally:\n",
    "            file.close()\n",
    "\n",
    "    except Exception as e:\n",
    "        print(f\"An unexpected error occurred: {e}\")\n",
    "\n",
    "read_file('example.txt')"
   ]
  },
  {
   "cell_type": "markdown",
   "metadata": {},
   "source": [
    "## Writing a File"
   ]
  },
  {
   "cell_type": "code",
   "execution_count": null,
   "metadata": {},
   "outputs": [],
   "source": [
    "def write_file(file_name, content):\n",
    "    try:\n",
    "        file = open(file_name, 'w')\n",
    "        try:\n",
    "            file.write(content)\n",
    "        finally:\n",
    "            file.close()\n",
    "        # do we need to close the file? Yes, we need to close the file\n",
    "    except IOError:\n",
    "        print(f\"An error occurred while writing to the file {file_name}\")\n",
    "    except Exception as e:\n",
    "        print(f\"An unexpected error occurred: {e}\")\n",
    "\n",
    "\n",
    "\n",
    "def append_file(file_name, content):\n",
    "    try:\n",
    "        file = open(file_name, 'a')\n",
    "        try:\n",
    "            file.write(content)\n",
    "        finally:\n",
    "            file.close()\n",
    "    except IOError:\n",
    "        print(f\"An error occurred while appending to the file {file_name}\")\n",
    "    except Exception as e:\n",
    "        print(f\"An unexpected error occurred: {e}\")"
   ]
  },
  {
   "cell_type": "markdown",
   "metadata": {},
   "source": [
    "## `with` Statement"
   ]
  },
  {
   "cell_type": "code",
   "execution_count": null,
   "metadata": {},
   "outputs": [],
   "source": [
    "def read_file_using_with(file_name):\n",
    "    try:\n",
    "        with open(file_name) as file:\n",
    "            for line in file:\n",
    "                print(line.strip())\n",
    "    except FileNotFoundError:\n",
    "        print(f\"File {file_name} not found\")\n",
    "    except IOError:\n",
    "        print(f\"An error occurred while reading the file {file_name}\")\n",
    "    except Exception as e:\n",
    "        print(f\"An unexpected error occurred: {e}\")\n",
    "\n",
    "read_file_using_with('example.txt')"
   ]
  },
  {
   "cell_type": "code",
   "execution_count": null,
   "metadata": {},
   "outputs": [],
   "source": [
    "def append_file_using_with(file_name, content):\n",
    "    try:\n",
    "        with open(file_name, 'a') as file:\n",
    "            file.write(content)\n",
    "    except IOError:\n",
    "        print(f\"An error occurred while appending to the file {file_name}\")\n",
    "    except Exception as e:\n",
    "        print(f\"An unexpected error occurred: {e}\")\n",
    "\n",
    "\n",
    "def write_file_using_with(file_name, content):\n",
    "    try:\n",
    "        with open(file_name, 'w') as file:\n",
    "            file.write(content)\n",
    "        # do we need to close the file? No, the with statement will close the file for us\n",
    "    except IOError:\n",
    "        print(f\"An error occurred while writing to the file {file_name}\")\n",
    "    except Exception as e:\n",
    "        print(f\"An unexpected error occurred: {e}\")"
   ]
  },
  {
   "cell_type": "markdown",
   "metadata": {},
   "source": [
    "## Counting total characters, words, and lines in a file"
   ]
  },
  {
   "cell_type": "code",
   "execution_count": null,
   "metadata": {},
   "outputs": [],
   "source": [
    "def count_file_contents(filename):\n",
    "    counts = {'characters': 0, 'words': 0, 'lines': 0}\n",
    "    \n",
    "    try:\n",
    "        with open(filename, 'r') as file:\n",
    "            for line in file:\n",
    "                counts['lines'] += 1\n",
    "                counts['characters'] += len(line)\n",
    "                counts['words'] += len(line.split())\n",
    "    except FileNotFoundError:\n",
    "        print(f\"The file {filename} was not found.\")\n",
    "        return {}\n",
    "    except IOError:\n",
    "        print(f\"An error occurred while reading the file {filename}.\")\n",
    "        return {}\n",
    "    except Exception as e:\n",
    "        print(f\"An unexpected error occurred: {e}\")\n",
    "        return {}\n",
    "    \n",
    "    return counts\n",
    "\n",
    "# Example usage\n",
    "print(count_file_contents('example.txt'))"
   ]
  },
  {
   "cell_type": "markdown",
   "metadata": {},
   "source": [
    "## `try-except` block"
   ]
  },
  {
   "cell_type": "code",
   "execution_count": 1,
   "metadata": {},
   "outputs": [
    {
     "name": "stdout",
     "output_type": "stream",
     "text": [
      "Error: File not found. Please check the filename or path.\n"
     ]
    }
   ],
   "source": [
    "try:\n",
    "    with open(\"data.txt\", \"r\") as file:\n",
    "        content = file.read()\n",
    "        print(content)\n",
    "except FileNotFoundError:\n",
    "    print(\"Error: File not found. Please check the filename or path.\")\n",
    "except PermissionError:\n",
    "    print(\"Error: Insufficient permissions to access the file.\")\n",
    "except Exception as e:\n",
    "    print(f\"Unexpected error: {e}\")\n"
   ]
  },
  {
   "cell_type": "markdown",
   "metadata": {},
   "source": [
    "## `re` module\n",
    "\n",
    "### Regular Expressions in Python: `compile` and `findall` Methods\n",
    "\n"
   ]
  },
  {
   "cell_type": "markdown",
   "metadata": {},
   "source": [
    "#### `re.findall` Method\n",
    "The `re.findall` method is used to find all occurrences of a pattern in a string. It returns a list of all non-overlapping matches of the pattern in the string.\n",
    "\n",
    "**Syntax:**\n",
    "\n",
    "```python\n",
    "re.findall(pattern, string, flags=0)\n",
    "```\n",
    "\n",
    "`pattern`: The regular expression pattern to search for.\n",
    "\n",
    "`string`: The string to search within.\n",
    "\n",
    "`flags`: Optional flags to modify the behavior of the pattern (e.g., re.IGNORECASE for case-insensitive matching).\n",
    "\n"
   ]
  },
  {
   "cell_type": "code",
   "execution_count": null,
   "metadata": {},
   "outputs": [],
   "source": [
    "import re\n",
    "\n",
    "# Find all words in a string using a regular expression pattern\n",
    "text = \"This is an example text with several words.\"\n",
    "words = re.findall(r'\\b\\w+\\b', text)\n",
    "\n",
    "print(words)\n",
    "# Output: ['This', 'is', 'an', 'example', 'text', 'with', 'several', 'words']"
   ]
  },
  {
   "cell_type": "markdown",
   "metadata": {},
   "source": [
    "\n",
    "#### `re.compile` Method\n",
    "\n",
    "The `re.compile` method in Python's `re` module is used to compile a regular expression pattern into a regular expression object. This object can then be used to perform various operations, such as searching, matching, and replacing, on strings. Compiling a regular expression pattern can improve performance if the same pattern is used multiple times, as it avoids recompiling the pattern each time it is used.\n",
    "\n",
    "**Syntax:**\n",
    "```python\n",
    "re.compile(pattern, flags=0)\n",
    "```\n",
    "\n",
    "`pattern`: The regular expression pattern to compile.\n",
    "\n",
    "`flags`: Optional flags to modify the behavior of the pattern (e.g., re.IGNORECASE for case-insensitive matching).\n",
    "\n",
    "\n",
    "**Note:** By using the compile method to create a compiled regular expression object, you can reuse the same pattern efficiently in multiple operations. The findall method is useful for extracting all matches of a pattern from a string."
   ]
  },
  {
   "cell_type": "code",
   "execution_count": 2,
   "metadata": {},
   "outputs": [
    {
     "name": "stdout",
     "output_type": "stream",
     "text": [
      "['This', 'is', 'an', 'example', 'text', 'with', 'several', 'words']\n"
     ]
    }
   ],
   "source": [
    "import re\n",
    "\n",
    "# Compile a regular expression pattern\n",
    "pattern = re.compile(r'\\b\\w+\\b')\n",
    "\n",
    "# Use the compiled pattern to find all words in a string\n",
    "text = \"This is an example text with several words.\"\n",
    "words = pattern.findall(text)\n",
    "\n",
    "print(words)"
   ]
  },
  {
   "cell_type": "code",
   "execution_count": 1,
   "metadata": {},
   "outputs": [
    {
     "name": "stdout",
     "output_type": "stream",
     "text": [
      "['2021-05-15', '2021-06-30', '2022-01-01']\n"
     ]
    }
   ],
   "source": [
    "import re\n",
    "\n",
    "def extract_dates(text):\n",
    "    # Compile a regular expression pattern to find all dates in the format YYYY-MM-DD\n",
    "    date_pattern = re.compile(r'\\b\\d{4}-\\d{2}-\\d{2}\\b') # \\b is a word boundary\n",
    "                                                                      # \\d is a digit\n",
    "    \n",
    "    # Use the findall method to extract all dates\n",
    "    dates = date_pattern.findall(text)\n",
    "    \n",
    "    return dates\n",
    "\n",
    "# Example text\n",
    "text = \"\"\"\n",
    "The project started on 2021-05-15 and the first milestone was achieved on 2021-06-30.\n",
    "The final deadline is set for 2022-01-01.\n",
    "\"\"\"\n",
    "\n",
    "# Extract dates\n",
    "dates = extract_dates(text)\n",
    "print(dates)"
   ]
  }
 ],
 "metadata": {
  "kernelspec": {
   "display_name": "base",
   "language": "python",
   "name": "python3"
  },
  "language_info": {
   "codemirror_mode": {
    "name": "ipython",
    "version": 3
   },
   "file_extension": ".py",
   "mimetype": "text/x-python",
   "name": "python",
   "nbconvert_exporter": "python",
   "pygments_lexer": "ipython3",
   "version": "3.10.13"
  }
 },
 "nbformat": 4,
 "nbformat_minor": 2
}
