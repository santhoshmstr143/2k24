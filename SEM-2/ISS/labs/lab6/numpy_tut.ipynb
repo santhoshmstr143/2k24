{
 "cells": [
  {
   "cell_type": "code",
   "execution_count": null,
   "metadata": {},
   "outputs": [],
   "source": [
    "!pip install numpy"
   ]
  },
  {
   "cell_type": "code",
   "execution_count": 3,
   "metadata": {},
   "outputs": [],
   "source": [
    "import numpy as np"
   ]
  },
  {
   "cell_type": "markdown",
   "metadata": {},
   "source": [
    "# Array Initialization"
   ]
  },
  {
   "cell_type": "code",
   "execution_count": 7,
   "metadata": {},
   "outputs": [
    {
     "name": "stdout",
     "output_type": "stream",
     "text": [
      "[[1 2 3]\n",
      " [4 5 6]]\n",
      "\n",
      "[1. 2. 3.]\n"
     ]
    }
   ],
   "source": [
    "A = np.array([[1, 2, 3], \n",
    "              [4, 5, 6]])\n",
    "\n",
    "print(A, end='\\n\\n')\n",
    "\n",
    "Af = np.array([1, 2, 3], dtype=float) \n",
    "\n",
    "print(Af)"
   ]
  },
  {
   "cell_type": "code",
   "execution_count": 8,
   "metadata": {},
   "outputs": [
    {
     "name": "stdout",
     "output_type": "stream",
     "text": [
      "(2, 3)\n"
     ]
    }
   ],
   "source": [
    "np.arange(0, 1, 0.2)        \n",
    "\n",
    "np.linspace(0, 2*np.pi, 4)  \n",
    "\n",
    "A = np.zeros((2, 3))        \n",
    "\n",
    "print(A.shape)             "
   ]
  },
  {
   "cell_type": "markdown",
   "metadata": {},
   "source": [
    "# Numpy arrays are mutable"
   ]
  },
  {
   "cell_type": "code",
   "execution_count": 6,
   "metadata": {},
   "outputs": [
    {
     "name": "stdout",
     "output_type": "stream",
     "text": [
      "[[1. 0.]\n",
      " [0. 0.]]\n"
     ]
    }
   ],
   "source": [
    "A = np.zeros((2, 2))\n",
    "\n",
    "\n",
    "C = A\n",
    "C[0, 0] = 1\n",
    "\n",
    "print(A)\n"
   ]
  },
  {
   "cell_type": "markdown",
   "metadata": {},
   "source": [
    "# Array Attributes"
   ]
  },
  {
   "cell_type": "code",
   "execution_count": 11,
   "metadata": {},
   "outputs": [
    {
     "name": "stdout",
     "output_type": "stream",
     "text": [
      "2\n",
      "\n",
      "(2, 5)\n",
      "\n",
      "10\n",
      "\n",
      "[[0 5]\n",
      " [1 6]\n",
      " [2 7]\n",
      " [3 8]\n",
      " [4 9]]\n",
      "\n",
      "int64\n",
      "\n"
     ]
    }
   ],
   "source": [
    "a = np.arange(10).reshape((2, 5))\n",
    "\n",
    "print(a.ndim, end=\"\\n\\n\")\n",
    "\n",
    "print(a.shape, end=\"\\n\\n\")\n",
    "\n",
    "print(a.size, end=\"\\n\\n\")\n",
    "\n",
    "print(a.T, end=\"\\n\\n\")\n",
    "\n",
    "print(a.dtype, end=\"\\n\\n\")       "
   ]
  },
  {
   "cell_type": "markdown",
   "metadata": {},
   "source": [
    "# Basic Operations"
   ]
  },
  {
   "cell_type": "code",
   "execution_count": 12,
   "metadata": {},
   "outputs": [
    {
     "name": "stdout",
     "output_type": "stream",
     "text": [
      "[ 0  3  4 12]\n",
      "\n",
      "[2 2 0 1]\n",
      "\n",
      "[ 0  3  8 15]\n",
      "\n"
     ]
    }
   ],
   "source": [
    "a = np.arange(4)  # array([0, 1, 2, 3])\n",
    "\n",
    "b = np.array([2, 3, 2, 4])\n",
    "\n",
    "print(a * b, end=\"\\n\\n\")\n",
    "\n",
    "print(b - a, end=\"\\n\\n\")\n",
    "\n",
    "c = [2, 3, 4, 5]\n",
    "print(a * c, end=\"\\n\\n\")"
   ]
  },
  {
   "cell_type": "markdown",
   "metadata": {},
   "source": [
    "# Vector Operations"
   ]
  },
  {
   "cell_type": "code",
   "execution_count": 13,
   "metadata": {},
   "outputs": [
    {
     "name": "stdout",
     "output_type": "stream",
     "text": [
      "6\n",
      "\n",
      "[[1 1 1]\n",
      " [2 2 2]\n",
      " [3 3 3]]\n",
      "\n",
      "6\n",
      "\n"
     ]
    }
   ],
   "source": [
    "# Example vectors\n",
    "u = [1, 2, 3]\n",
    "v = [1, 1, 1]\n",
    "\n",
    "# Inner product\n",
    "inner = np.inner(u, v) \n",
    "\n",
    "# Outer product\n",
    "outer = np.outer(u, v) \n",
    "\n",
    "# Dot product\n",
    "dot = np.dot(u, v)\n",
    "\n",
    "print(inner, end=\"\\n\\n\")\n",
    "\n",
    "print(outer, end=\"\\n\\n\")\n",
    "\n",
    "print(dot, end=\"\\n\\n\")"
   ]
  },
  {
   "cell_type": "markdown",
   "metadata": {},
   "source": [
    "# Matrix Operations"
   ]
  },
  {
   "cell_type": "code",
   "execution_count": 15,
   "metadata": {},
   "outputs": [
    {
     "name": "stdout",
     "output_type": "stream",
     "text": [
      "np.add(A, B):\n",
      " [[ 6  8]\n",
      " [10 12]]\n",
      "\n",
      "np.subtract(A, B):\n",
      " [[-4 -4]\n",
      " [-4 -4]]\n",
      "\n",
      "np.multiply(A, B):\n",
      " [[ 5 12]\n",
      " [21 32]]\n",
      "\n",
      "np.divide(A, B):\n",
      " [[0.2        0.33333333]\n",
      " [0.42857143 0.5       ]]\n",
      "\n",
      "np.dot(A, B):\n",
      " [[19 22]\n",
      " [43 50]]\n",
      "\n",
      "np.matmul(A, B):\n",
      " [[19 22]\n",
      " [43 50]]\n",
      "\n",
      "np.transpose(A):\n",
      " [[1 3]\n",
      " [2 4]]\n",
      "\n",
      "np.identity(2):\n",
      " [[1. 0.]\n",
      " [0. 1.]]\n",
      "\n",
      "np.trace(A):\n",
      " 5\n",
      "\n"
     ]
    }
   ],
   "source": [
    "import numpy as np\n",
    "\n",
    "# Example matrices\n",
    "A = np.array([[1, 2], [3, 4]])\n",
    "B = np.array([[5, 6], [7, 8]])\n",
    "\n",
    "# np.add(A, B): Adds matrices A and B element-wise\n",
    "add_result = np.add(A, B)\n",
    "print(\"np.add(A, B):\\n\", add_result, end=\"\\n\\n\")\n",
    "\n",
    "# np.subtract(A, B): Subtracts matrix B from matrix A element-wise\n",
    "subtract_result = np.subtract(A, B)\n",
    "print(\"np.subtract(A, B):\\n\", subtract_result, end=\"\\n\\n\")\n",
    "\n",
    "# np.multiply(A, B): Multiplies matrices A and B element-wise\n",
    "multiply_result = np.multiply(A, B)\n",
    "print(\"np.multiply(A, B):\\n\", multiply_result, end=\"\\n\\n\")\n",
    "\n",
    "# np.divide(A, B): Divides matrix A by matrix B element-wise\n",
    "divide_result = np.divide(A, B)\n",
    "print(\"np.divide(A, B):\\n\", divide_result, end=\"\\n\\n\")\n",
    "\n",
    "# np.dot(A, B): Computes the dot product of matrices A and B\n",
    "dot_result = np.dot(A, B)\n",
    "print(\"np.dot(A, B):\\n\", dot_result, end=\"\\n\\n\")\n",
    "\n",
    "# np.matmul(A, B): Performs matrix multiplication (supports 2D arrays)\n",
    "matmul_result = np.matmul(A, B)\n",
    "print(\"np.matmul(A, B):\\n\", matmul_result, end=\"\\n\\n\")\n",
    "\n",
    "\n",
    "# np.transpose(A): Transposes matrix A (swaps rows and columns)\n",
    "transpose_result = np.transpose(A)\n",
    "print(\"np.transpose(A):\\n\", transpose_result, end=\"\\n\\n\")\n",
    "\n",
    "\n",
    "# np.identity(n): Creates an n x n identity matrix\n",
    "identity_result = np.identity(2)\n",
    "print(\"np.identity(2):\\n\", identity_result, end=\"\\n\\n\")\n",
    "\n",
    "# np.trace(A): Computes the trace of matrix A (sum of diagonal elements)\n",
    "trace_result = np.trace(A)\n",
    "print(\"np.trace(A):\\n\", trace_result, end=\"\\n\\n\")"
   ]
  },
  {
   "cell_type": "markdown",
   "metadata": {},
   "source": [
    "# 1-D Array Slicing"
   ]
  },
  {
   "cell_type": "code",
   "execution_count": 17,
   "metadata": {},
   "outputs": [
    {
     "name": "stdout",
     "output_type": "stream",
     "text": [
      "[0.98 0.13 0.72]\n",
      "\n",
      "[0.56 0.98 0.13]\n",
      "\n",
      "[0.25 0.98 0.72]\n",
      "\n"
     ]
    }
   ],
   "source": [
    "# Generate a 1-D array\n",
    "a = np.array([0.25, 0.56, 0.98, 0.13, 0.72])\n",
    "\n",
    "print(a[2:], end=\"\\n\\n\") # 2 is the starting index (inclusive) and the end is the end of the array\n",
    "\n",
    "print(a[1:4], end=\"\\n\\n\") # 1 is the starting index, 4 is the ending index (exclusive)\n",
    "\n",
    "print(a[::2], end=\"\\n\\n\") # 2 is the step size"
   ]
  },
  {
   "cell_type": "code",
   "execution_count": 19,
   "metadata": {},
   "outputs": [
    {
     "name": "stdout",
     "output_type": "stream",
     "text": [
      "[0.72 0.13 0.98 0.56 0.25]\n",
      "\n",
      "[0.72 0.13 0.98 0.56]\n",
      "\n",
      "0.72\n",
      "\n",
      "0.13\n",
      "\n"
     ]
    }
   ],
   "source": [
    "# Generate a 1-D array\n",
    "a = np.array([0.25, 0.56, 0.98, 0.13, 0.72])\n",
    "\n",
    "# Select elements in reverse order\n",
    "print(a[::-1], end=\"\\n\\n\")  # -1 here is the step size and the blank before the colon means start from the beginning\n",
    "\n",
    "# Select elements from index 4 to 1 in reverse order\n",
    "print(a[4:0:-1], end=\"\\n\\n\")  # 4 is the starting index, 0 is the ending index (exclusive), and -1 is the step size \n",
    "\n",
    "# Select the last element (negative indexing)\n",
    "print(a[-1], end=\"\\n\\n\")\n",
    "\n",
    "# Select the second to last element\n",
    "print(a[-2], end=\"\\n\\n\")"
   ]
  },
  {
   "cell_type": "markdown",
   "metadata": {},
   "source": [
    "# 2-D Array Slicing"
   ]
  },
  {
   "cell_type": "code",
   "execution_count": 20,
   "metadata": {},
   "outputs": [
    {
     "name": "stdout",
     "output_type": "stream",
     "text": [
      "[0.91 0.78 0.64 0.38 0.55]\n",
      "\n",
      "[[0.43 0.15 0.67 0.89 0.24]\n",
      " [0.91 0.78 0.64 0.38 0.55]]\n",
      "\n"
     ]
    }
   ],
   "source": [
    "a = np.array([[ 0.25,  0.56,  0.98,  0.13,  0.72],\n",
    "              [ 0.43,  0.15,  0.67,  0.89,  0.24],\n",
    "              [ 0.91,  0.78,  0.64,  0.38,  0.55],\n",
    "              [ 0.19,  0.82,  0.13,  0.29,  0.71]])\n",
    "\n",
    "# Select the third row, all columns\n",
    "print(a[2, :], end=\"\\n\\n\")\n",
    "\n",
    "# Select the 2nd and 3rd rows, all columns\n",
    "print(a[1:3], end=\"\\n\\n\")"
   ]
  },
  {
   "cell_type": "code",
   "execution_count": 21,
   "metadata": {},
   "outputs": [
    {
     "name": "stdout",
     "output_type": "stream",
     "text": [
      "[[0.15 0.67 0.89]\n",
      " [0.78 0.64 0.38]]\n",
      "\n",
      "[[0.19 0.13 0.71]\n",
      " [0.91 0.64 0.55]\n",
      " [0.43 0.67 0.24]\n",
      " [0.25 0.98 0.72]]\n",
      "\n",
      "0.71\n",
      "\n"
     ]
    }
   ],
   "source": [
    "# Select rows 1 through 3 (exclusive of 3), columns 1 through 4 (exclusive of 4)\n",
    "print(a[1:3, 1:4], end=\"\\n\\n\")\n",
    "\n",
    "\n",
    "# Select rows in reverse order, every other column\n",
    "print(a[::-1, ::2], end=\"\\n\\n\") # -1 is the step size for rows, 2 is the step size for columns\n",
    "\n",
    "# Select the last element from the last row (negative indexing)\n",
    "print(a[-1, -1], end=\"\\n\\n\")"
   ]
  },
  {
   "cell_type": "markdown",
   "metadata": {},
   "source": [
    "# Reshaping"
   ]
  },
  {
   "cell_type": "code",
   "execution_count": 23,
   "metadata": {},
   "outputs": [
    {
     "name": "stdout",
     "output_type": "stream",
     "text": [
      "Original array:\n",
      "[ 0  1  2  3  4  5  6  7  8  9 10 11]\n",
      "\n",
      "Reshaped array (3x4):\n",
      "[[ 0  1  2  3]\n",
      " [ 4  5  6  7]\n",
      " [ 8  9 10 11]]\n",
      "\n"
     ]
    }
   ],
   "source": [
    "# Create a 1D array of size 12\n",
    "a = np.arange(12)\n",
    "print(\"Original array:\")\n",
    "print(a, end=\"\\n\\n\")\n",
    "\n",
    "# Reshape the array to 3x4\n",
    "reshaped = a.reshape(3, 4)\n",
    "print(\"Reshaped array (3x4):\")\n",
    "print(reshaped, end=\"\\n\\n\")"
   ]
  },
  {
   "cell_type": "code",
   "execution_count": 27,
   "metadata": {},
   "outputs": [
    {
     "name": "stdout",
     "output_type": "stream",
     "text": [
      "[ 0  1  2  3  4  5  6  7  8  9 10 11]\n",
      "\n",
      "[[ 0  1  2  3]\n",
      " [ 4  5  6  7]\n",
      " [ 8  9 10 11]]\n",
      "\n"
     ]
    },
    {
     "ename": "ValueError",
     "evalue": "cannot reshape array of size 12 into shape (3,5)",
     "output_type": "error",
     "traceback": [
      "\u001b[0;31m---------------------------------------------------------------------------\u001b[0m",
      "\u001b[0;31mValueError\u001b[0m                                Traceback (most recent call last)",
      "Cell \u001b[0;32mIn[27], line 11\u001b[0m\n\u001b[1;32m      8\u001b[0m \u001b[38;5;28mprint\u001b[39m(reshaped, end\u001b[38;5;241m=\u001b[39m\u001b[38;5;124m\"\u001b[39m\u001b[38;5;130;01m\\n\u001b[39;00m\u001b[38;5;130;01m\\n\u001b[39;00m\u001b[38;5;124m\"\u001b[39m)\n\u001b[1;32m     10\u001b[0m \u001b[38;5;66;03m# Invalid reshaping (raises an error)\u001b[39;00m\n\u001b[0;32m---> 11\u001b[0m invalid \u001b[38;5;241m=\u001b[39m \u001b[43ma\u001b[49m\u001b[38;5;241;43m.\u001b[39;49m\u001b[43mreshape\u001b[49m\u001b[43m(\u001b[49m\u001b[38;5;241;43m3\u001b[39;49m\u001b[43m,\u001b[49m\u001b[43m \u001b[49m\u001b[38;5;241;43m5\u001b[39;49m\u001b[43m)\u001b[49m  \u001b[38;5;66;03m# ValueError: cannot reshape array\u001b[39;00m\n",
      "\u001b[0;31mValueError\u001b[0m: cannot reshape array of size 12 into shape (3,5)"
     ]
    }
   ],
   "source": [
    "# Reshape Example\n",
    "a = np.arange(12)\n",
    "\n",
    "print(a, end=\"\\n\\n\")\n",
    "\n",
    "# Valid reshaping\n",
    "reshaped = a.reshape(3, 4)\n",
    "print(reshaped, end=\"\\n\\n\")\n",
    "\n",
    "# Invalid reshaping (raises an error)\n",
    "invalid = a.reshape(3, 5)  # ValueError: cannot reshape array"
   ]
  },
  {
   "cell_type": "markdown",
   "metadata": {},
   "source": [
    "# Seeds in NumPy"
   ]
  },
  {
   "cell_type": "code",
   "execution_count": 29,
   "metadata": {},
   "outputs": [
    {
     "name": "stdout",
     "output_type": "stream",
     "text": [
      "[[0.37454012 0.95071431 0.73199394]\n",
      " [0.59865848 0.15601864 0.15599452]]\n",
      "\n",
      "[[0.37454012 0.95071431 0.73199394]\n",
      " [0.59865848 0.15601864 0.15599452]]\n"
     ]
    }
   ],
   "source": [
    "# Set the seed for reproducibility\n",
    "np.random.seed(42)\n",
    "print(np.random.rand(2,3), end = \"\\n\\n\")    \n",
    "# array([[0.37454012, 0.95071431, 0.73199394],\n",
    "#        [0.59865848, 0.15601864, 0.15599452]])\n",
    "\n",
    "# seed again\n",
    "np.random.seed(42)\n",
    "print(np.random.rand(2,3))\n",
    "# array([[0.37454012, 0.95071431, 0.73199394],\n",
    "#        [0.59865848, 0.15601864, 0.15599452]])\n",
    "\n",
    "# Generates the same numbers every time after setting the seed"
   ]
  },
  {
   "cell_type": "markdown",
   "metadata": {},
   "source": [
    "# Masking"
   ]
  },
  {
   "cell_type": "markdown",
   "metadata": {},
   "source": [
    "### Masking with AND condition"
   ]
  },
  {
   "cell_type": "code",
   "execution_count": null,
   "metadata": {},
   "outputs": [
    {
     "name": "stdout",
     "output_type": "stream",
     "text": [
      "Mask:\n",
      " [False False  True  True False False]\n",
      "\n",
      "Masked Array:\n",
      " [3 4]\n",
      "\n"
     ]
    }
   ],
   "source": [
    "arr = np.array([1, 2, 3, 4, 5, 6])\n",
    "        \n",
    "# Masking with AND condition\n",
    "mask = (arr > 2) & (arr < 5)\n",
    "print(\"Mask:\\n\", mask, end=\"\\n\\n\")  \n",
    "\n",
    "masked_array = arr[mask]\n",
    "print(\"Masked Array:\\n\", masked_array, end=\"\\n\\n\")\n",
    "\n",
    "# you can directly use the mask to index the array\n",
    "masked_array = arr[(arr > 2) & (arr < 5)]\n",
    "print(\"Masked Array:\\n\", masked_array, end=\"\\n\\n\")"
   ]
  },
  {
   "cell_type": "markdown",
   "metadata": {},
   "source": [
    "### Masking with OR condition"
   ]
  },
  {
   "cell_type": "code",
   "execution_count": null,
   "metadata": {},
   "outputs": [
    {
     "name": "stdout",
     "output_type": "stream",
     "text": [
      "Mask:\n",
      " [ True False False False False  True]\n",
      "\n",
      "Masked Array:\n",
      " [1 6]\n",
      "\n"
     ]
    }
   ],
   "source": [
    "arr = np.array([1, 2, 3, 4, 5, 6])\n",
    "\n",
    "# Masking with OR condition\n",
    "mask = (arr < 2) | (arr > 5)\n",
    "print(\"Mask:\\n\", mask, end=\"\\n\\n\")\n",
    "\n",
    "masked_array = arr[mask]\n",
    "print(\"Masked Array:\\n\", masked_array, end=\"\\n\\n\")\n",
    "\n",
    "# you can directly use the mask to index the array\n",
    "masked_array = arr[(arr < 2) | (arr > 5)]\n",
    "print(\"Masked Array:\\n\", masked_array, end=\"\\n\\n\")\n"
   ]
  },
  {
   "cell_type": "markdown",
   "metadata": {},
   "source": [
    "# Vectorization"
   ]
  },
  {
   "cell_type": "code",
   "execution_count": 2,
   "metadata": {},
   "outputs": [
    {
     "name": "stdout",
     "output_type": "stream",
     "text": [
      "Vectorized time: 0.00461125373840332\n",
      "Non-vectorized time: 0.355053186416626\n"
     ]
    }
   ],
   "source": [
    "import numpy as np\n",
    "from time import time\n",
    "\n",
    "\n",
    "NO_OF_ELEMENTS = int(1e6) \n",
    "\n",
    "w = np.random.rand(NO_OF_ELEMENTS)\n",
    "x = np.random.rand(NO_OF_ELEMENTS)\n",
    "c = np.zeros(NO_OF_ELEMENTS)\n",
    "\n",
    "start_time = time()\n",
    "c = np.dot(w, x) # Vectorized implementation\n",
    "print(\"Vectorized time:\", time() - start_time)\n",
    "\n",
    "start_time = time()\n",
    "for i in range(NO_OF_ELEMENTS): # Non-vectorized implementation\n",
    "    c += w[i] * x[i]\n",
    "\n",
    "print(\"Non-vectorized time:\", time() - start_time)"
   ]
  },
  {
   "cell_type": "markdown",
   "metadata": {},
   "source": [
    "The Non-Vectorized Implementation takes almost a 100 times more time than the Vectorized Implementation."
   ]
  }
 ],
 "metadata": {
  "kernelspec": {
   "display_name": "base",
   "language": "python",
   "name": "python3"
  },
  "language_info": {
   "codemirror_mode": {
    "name": "ipython",
    "version": 3
   },
   "file_extension": ".py",
   "mimetype": "text/x-python",
   "name": "python",
   "nbconvert_exporter": "python",
   "pygments_lexer": "ipython3",
   "version": "3.10.13"
  }
 },
 "nbformat": 4,
 "nbformat_minor": 2
}
